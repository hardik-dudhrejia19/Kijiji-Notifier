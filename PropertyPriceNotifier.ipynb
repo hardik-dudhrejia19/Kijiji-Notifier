{
 "cells": [
  {
   "cell_type": "code",
   "execution_count": 1,
   "metadata": {},
   "outputs": [],
   "source": [
    "import smtplib\n",
    "from bs4 import BeautifulSoup as soup\n",
    "from urllib.request import urlopen as req"
   ]
  },
  {
   "cell_type": "code",
   "execution_count": 2,
   "metadata": {},
   "outputs": [
    {
     "name": "stdout",
     "output_type": "stream",
     "text": [
      "Please enter your e-mail address\thardikdudhrejia50@gmail.com\n",
      "Please enter the link\thttps://www.kijiji.ca/v-short-term-rental/city-of-halifax/april-sep-unit-sublet-10-min-from-dal-and-smu-campuses/1492973199\n",
      "Please enter the threshold price\t2500\n",
      "Searching...\n",
      "Completed\n"
     ]
    }
   ],
   "source": [
    "def sendMail(receiver_mail,error,link):\n",
    "    sender = \"property.notifier19@gmail.com\"\n",
    "    receiver = receiver_mail\n",
    "    \n",
    "    if(error):\n",
    "        message=\"\"\"\"Hello\\n\n",
    "                    There is something unsual going on with your property choice.\\n\n",
    "                    Please go and check on the website link given below\\n\"\"\"+link+\"\\n\\n\"\n",
    "    else:\n",
    "        message = \"\"\"\"Hello\\n \n",
    "                    Your property is now as per your selected price.\\n\n",
    "                    Go and book for yourself fast on the given link below:\\n\"\"\"+link+\"\\n\\n\"\n",
    "\n",
    "    mail = smtplib.SMTP(host=\"smtp.gmail.com\",port=587)\n",
    "    mail.ehlo()\n",
    "    mail.starttls()\n",
    "    mail.login(\"property.notifier19@gmail.com\",\"12345@property\")\n",
    "    mail.sendmail(sender,receiver,message)\n",
    "\n",
    "\n",
    "if __name__ == \"__main__\":\n",
    "    \n",
    "    email = input(\"Please enter your e-mail address\\t\")\n",
    "    link = input(\"Please enter the link\\t\")\n",
    "    asked_price = float(input(\"Please enter the threshold price\\t\"))\n",
    "    print(\"Searching...\")\n",
    "    price = 10000000.00\n",
    "    flag = True\n",
    "    while(price > asked_price):\n",
    "        data = soup(req(link))\n",
    "        section = data.findAll(\"div\",{\"id\":\"ViewItemPage\"})\n",
    "        price_section = section[0].findAll(\"span\",{\"class\":\"currentPrice-2842943473\"})\n",
    "        price = price_section[0].text\n",
    "        \n",
    "        try:\n",
    "            price = price.replace(\",\",\"\")\n",
    "            price = float(price[1:])\n",
    "\n",
    "        except ValueError as e:\n",
    "            sendMail(email,error=True,link=link)\n",
    "            flag = False\n",
    "            break\n",
    "\n",
    "    if(flag):\n",
    "        sendMail(email,error=False,link=link)\n",
    "    print(\"Completed\")\n"
   ]
  },
  {
   "cell_type": "code",
   "execution_count": null,
   "metadata": {},
   "outputs": [],
   "source": []
  }
 ],
 "metadata": {
  "kernelspec": {
   "display_name": "Python 3",
   "language": "python",
   "name": "python3"
  },
  "language_info": {
   "codemirror_mode": {
    "name": "ipython",
    "version": 3
   },
   "file_extension": ".py",
   "mimetype": "text/x-python",
   "name": "python",
   "nbconvert_exporter": "python",
   "pygments_lexer": "ipython3",
   "version": "3.7.3"
  }
 },
 "nbformat": 4,
 "nbformat_minor": 2
}
